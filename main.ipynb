{
 "cells": [
  {
   "cell_type": "code",
   "execution_count": 6,
   "metadata": {},
   "outputs": [],
   "source": [
    "# importer les librairies \n",
    "import numpy as np\n",
    "import pandas \n",
    "import os"
   ]
  },
  {
   "cell_type": "code",
   "execution_count": 9,
   "metadata": {},
   "outputs": [
    {
     "name": "stdout",
     "output_type": "stream",
     "text": [
      "         Label;Account;Detail;Date;Price;Modality\n",
      "0   Food;Credit;#sample;01/01/2022;-15;Withdrawal\n",
      "1    Food;Debit;#sample;01/01/2023;-20;Withdrawal\n",
      "2  Grocery;Debit;#sample;01/01/2024;-3;Withdrawal\n",
      "3  Grocry;Debit;#sample;01/01/2025;-14;Withdrawal\n",
      "4  Utils;Credit;#sample;01/01/2026;-36;Withdrawal\n"
     ]
    }
   ],
   "source": [
    "# recuperer les données de comptabilité\n",
    "\n",
    "file = 'sample.csv'\n",
    "\n",
    "if (os.environ.get('GOOGLE_SHEET_URL', '') != ''):\n",
    "    # recuperer les donnée via google sheet\n",
    "    pass\n",
    "\n",
    "data = pandas.read_csv(file)\n",
    "\n",
    "print(data.head())"
   ]
  }
 ],
 "metadata": {
  "interpreter": {
   "hash": "93958b0cf36b9180a5864c79896e84a6bbe7ca799b5c813b351b1248532a981b"
  },
  "kernelspec": {
   "display_name": "Python 3.7.0 64-bit",
   "language": "python",
   "name": "python3"
  },
  "language_info": {
   "codemirror_mode": {
    "name": "ipython",
    "version": 3
   },
   "file_extension": ".py",
   "mimetype": "text/x-python",
   "name": "python",
   "nbconvert_exporter": "python",
   "pygments_lexer": "ipython3",
   "version": "3.7.0"
  },
  "orig_nbformat": 4
 },
 "nbformat": 4,
 "nbformat_minor": 2
}
