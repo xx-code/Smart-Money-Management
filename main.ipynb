{
 "cells": [
  {
   "cell_type": "code",
   "execution_count": 1,
   "metadata": {},
   "outputs": [],
   "source": [
    "# importer les librairies \n",
    "import numpy as np\n",
    "import pandas \n",
    "import os\n",
    "from  apiGoogleSheet import *\n",
    "%run env.py"
   ]
  },
  {
   "cell_type": "code",
   "execution_count": 2,
   "metadata": {},
   "outputs": [
    {
     "name": "stdout",
     "output_type": "stream",
     "text": [
      "Téléhcargement du fichier google sheet terminé\n",
      "          Label          Account  \\\n",
      "0      Earnings  Desjardin Debit   \n",
      "1      Bank Fee  Desjardin Debit   \n",
      "2      Earnings  Desjardin Debit   \n",
      "3        School  Desjardin Debit   \n",
      "4       Grocery  Desjardin Debit   \n",
      "..          ...              ...   \n",
      "325         NaN  Desjardin Debit   \n",
      "326    Earnings  Desjardin Debit   \n",
      "327  Tuiton Fee  Desjardin Debit   \n",
      "328     Grocery  Desjardin Debit   \n",
      "329      Divers  Desjardin Debit   \n",
      "\n",
      "                                                Detail        Date    Price  \\\n",
      "0         Depot Initiale lors de l'ouverture de compte  13/09/2021   200.00   \n",
      "1                          Virement automatique banque  13/09/2021    -5.00   \n",
      "2                   Seconde depot initiale a la banque  14/09/2021   600.00   \n",
      "3                         Achat FSG univisersite laval  14/09/2021    -4.31   \n",
      "4                Course a walmart (numero recu inconu)  16/09/2021   -68.71   \n",
      "..                                                 ...         ...      ...   \n",
      "325                                  Paiement de loyer  10/01/2022  -373.00   \n",
      "326                           l'argent envoye par papa  10/01/2022  3360.00   \n",
      "327                              Paiement de scolarite  10/01/2022 -3172.59   \n",
      "328        Depaneur Universitaire (numero recu inconu)  10/01/2022    -4.75   \n",
      "329  Envoi d'argent a Audrey (elle a 30$ et j'ai pr...  10/01/2022  -100.00   \n",
      "\n",
      "       Modality  \n",
      "0       Deposit  \n",
      "1    Withdrawal  \n",
      "2       Deposit  \n",
      "3    Withdrawal  \n",
      "4    Withdrawal  \n",
      "..          ...  \n",
      "325  Withdrawal  \n",
      "326     Deposit  \n",
      "327  Withdrawal  \n",
      "328  Withdrawal  \n",
      "329  Withdrawal  \n",
      "\n",
      "[330 rows x 6 columns]\n"
     ]
    }
   ],
   "source": [
    "# recuperer les données de comptabilité\n",
    "\n",
    "file = 'sample.csv'\n",
    "\n",
    "GOOGLE_SHEET_SPREADSHEET_ID = os.environ.get('GOOGLE_SHEET_SPREADSHEET_ID', '')\n",
    "GOOGLE_SHEET_SPREADSHEET_RANGE = os.environ.get('GOOGLE_SHEET_SPREADSHEET_RANGE', '')\n",
    "\n",
    "if (GOOGLE_SHEET_SPREADSHEET_ID != '' and\n",
    "    GOOGLE_SHEET_SPREADSHEET_RANGE != ''):\n",
    "    # recuperer les donnée via google sheet\n",
    "    creds = connection_to_sheet()\n",
    "    is_get_csv = is_downloaded_csv_google_sheet(\n",
    "        creds, \n",
    "        GOOGLE_SHEET_SPREADSHEET_ID, \n",
    "        GOOGLE_SHEET_SPREADSHEET_RANGE)\n",
    "    \n",
    "    if is_get_csv:\n",
    "        file = 'data.csv'\n",
    "\n",
    "data = pandas.read_csv(file)\n"
   ]
  }
 ],
 "metadata": {
  "interpreter": {
   "hash": "93958b0cf36b9180a5864c79896e84a6bbe7ca799b5c813b351b1248532a981b"
  },
  "kernelspec": {
   "display_name": "Python 3.7.0 64-bit",
   "language": "python",
   "name": "python3"
  },
  "language_info": {
   "codemirror_mode": {
    "name": "ipython",
    "version": 3
   },
   "file_extension": ".py",
   "mimetype": "text/x-python",
   "name": "python",
   "nbconvert_exporter": "python",
   "pygments_lexer": "ipython3",
   "version": "3.7.0"
  },
  "orig_nbformat": 4
 },
 "nbformat": 4,
 "nbformat_minor": 2
}
