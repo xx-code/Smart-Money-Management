{
 "cells": [
  {
   "cell_type": "code",
   "execution_count": 8,
   "metadata": {},
   "outputs": [],
   "source": [
    "# importer les librairies \n",
    "import numpy as np\n",
    "import pandas \n",
    "import os\n",
    "from  apiGoogleSheet import *\n",
    "%run env.py"
   ]
  },
  {
   "cell_type": "code",
   "execution_count": 9,
   "metadata": {},
   "outputs": [
    {
     "name": "stdout",
     "output_type": "stream",
     "text": [
      "Please visit this URL to authorize this application: https://accounts.google.com/o/oauth2/auth?response_type=code&client_id=1098424066828-qicht45l9df4s3oos8vk0sfbs1usmmon.apps.googleusercontent.com&redirect_uri=http%3A%2F%2Flocalhost%3A55093%2F&scope=https%3A%2F%2Fwww.googleapis.com%2Fauth%2Fspreadsheets.readonly&state=DIKjsuD1JnNgDFVmUOMIU0L9iJ6cEe&access_type=offline\n"
     ]
    }
   ],
   "source": [
    "# recuperer les données de comptabilité\n",
    "\n",
    "file = 'sample.csv'\n",
    "\n",
    "GOOGLE_SHEET_SPREADSHEET_ID = os.environ.get('GOOGLE_SHEET_SPREADSHEET_ID', '')\n",
    "GOOGLE_SHEET_SPREADSHEET_RANGE = os.environ.get('GOOGLE_SHEET_SPREADSHEET_RANGE', '')\n",
    "\n",
    "if (GOOGLE_SHEET_SPREADSHEET_ID != '' and\n",
    "    GOOGLE_SHEET_SPREADSHEET_RANGE != ''):\n",
    "    # recuperer les donnée via google sheet\n",
    "    creds = connection_to_sheet()\n",
    "    is_get_csv = is_downloaded_csv_google_sheet(\n",
    "        creds, \n",
    "        GOOGLE_SHEET_SPREADSHEET_ID, \n",
    "        GOOGLE_SHEET_SPREADSHEET_RANGE)\n",
    "    \n",
    "    if is_get_csv:\n",
    "        file = 'data.csv'\n",
    "\n",
    "data = pandas.read_csv(file)\n",
    "\n",
    "print(data.head())"
   ]
  }
 ],
 "metadata": {
  "interpreter": {
   "hash": "93958b0cf36b9180a5864c79896e84a6bbe7ca799b5c813b351b1248532a981b"
  },
  "kernelspec": {
   "display_name": "Python 3.7.0 64-bit",
   "language": "python",
   "name": "python3"
  },
  "language_info": {
   "codemirror_mode": {
    "name": "ipython",
    "version": 3
   },
   "file_extension": ".py",
   "mimetype": "text/x-python",
   "name": "python",
   "nbconvert_exporter": "python",
   "pygments_lexer": "ipython3",
   "version": "3.7.0"
  },
  "orig_nbformat": 4
 },
 "nbformat": 4,
 "nbformat_minor": 2
}
